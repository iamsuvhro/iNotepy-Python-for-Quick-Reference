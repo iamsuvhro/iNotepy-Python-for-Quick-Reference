{
 "cells": [
  {
   "cell_type": "markdown",
   "metadata": {},
   "source": [
    "# Basic Python for Machine Learning\n",
    "Author - Suvhradip Ghosh\n",
    "\n",
    "Python is an interpreted, high-level, general-purpose programming language. Created by Guido van Rossum and first released in 1991, Python has a design philosophy that emphasizes code readability, notably using significant whitespace. It provides constructs that enable clear programming on both small and large scales.\n",
    "\n",
    "This is a ipython notebook for learning python for Machine Learning. \n"
   ]
  },
  {
   "cell_type": "markdown",
   "metadata": {},
   "source": [
    "# Checking Keywords\n",
    "\n",
    "In programming, a keyword is a word that is reserved by a program because the word has a special meaning. Keywords can be commands or parameters. Every programming language has a set of keywords that cannot be used as variable names. Keywords are sometimes called reserved names ."
   ]
  },
  {
   "cell_type": "code",
   "execution_count": 16,
   "metadata": {},
   "outputs": [
    {
     "name": "stdout",
     "output_type": "stream",
     "text": [
      "Keywords are\n",
      " ['False', 'None', 'True', 'and', 'as', 'assert', 'break', 'class', 'continue', 'def', 'del', 'elif', 'else', 'except', 'finally', 'for', 'from', 'global', 'if', 'import', 'in', 'is', 'lambda', 'nonlocal', 'not', 'or', 'pass', 'raise', 'return', 'try', 'while', 'with', 'yield']\n",
      "\n",
      " Total Number of Keywords 33\n"
     ]
    }
   ],
   "source": [
    "import keyword\n",
    "\n",
    "print(\"Keywords are\\n\",keyword.kwlist)\n",
    "\n",
    "print (\"\\n Total Number of Keywords\",len(keyword.kwlist))"
   ]
  },
  {
   "cell_type": "markdown",
   "metadata": {},
   "source": [
    "# For Loop in Python"
   ]
  },
  {
   "cell_type": "code",
   "execution_count": 9,
   "metadata": {},
   "outputs": [
    {
     "name": "stdout",
     "output_type": "stream",
     "text": [
      "Demo 0\n",
      "Demo 1\n",
      "Demo 2\n",
      "Demo 3\n",
      "Demo 4\n",
      "Demo 5\n",
      "Demo 6\n",
      "Demo 7\n",
      "Demo 8\n",
      "Demo 9\n"
     ]
    }
   ],
   "source": [
    "#here in python there have only two line of code for run a for-loop\n",
    "for i in range (10):\n",
    "    print(\"Demo\",i)"
   ]
  },
  {
   "cell_type": "markdown",
   "metadata": {},
   "source": [
    "# Multi Line Statement"
   ]
  },
  {
   "cell_type": "code",
   "execution_count": 11,
   "metadata": {},
   "outputs": [
    {
     "name": "stdout",
     "output_type": "stream",
     "text": [
      "24\n"
     ]
    }
   ],
   "source": [
    "#here i am going to show you how to write multi line statement in python\n",
    "a = 3+2+3+2+ \\\n",
    "    3+2+3+2+ \\\n",
    "    2+2\n",
    "\n",
    "print (a)\n",
    "\n",
    "#another way to do \n",
    "a = (3+3+3+3+5+\n",
    "     6+6+7+9+8)\n",
    "\n",
    "#another ways to do \n",
    "a =10 ;b =20; c =30 #multiple statement in a single line\n",
    "print(a+b+c)"
   ]
  },
  {
   "cell_type": "markdown",
   "metadata": {},
   "source": [
    "# If else Statement "
   ]
  },
  {
   "cell_type": "code",
   "execution_count": 15,
   "metadata": {},
   "outputs": [
    {
     "name": "stdout",
     "output_type": "stream",
     "text": [
      "Enter the value10\n",
      "Higher\n"
     ]
    }
   ],
   "source": [
    "a=int(input(\"Enter the value\"))#here i am taking a input to check the if else conditions\n",
    "#if statement\n",
    "if a<=5:\n",
    "    print(\"Lower\")\n",
    "#else statement    \n",
    "else:\n",
    "    print (\"Higher\")"
   ]
  },
  {
   "cell_type": "markdown",
   "metadata": {},
   "source": [
    "# Length of the Statement"
   ]
  },
  {
   "cell_type": "code",
   "execution_count": 22,
   "metadata": {},
   "outputs": [
    {
     "name": "stdout",
     "output_type": "stream",
     "text": [
      "5\n"
     ]
    }
   ],
   "source": [
    "string=(\"Hello\")\n",
    "print (len(string))#len is a length function for finding the length"
   ]
  },
  {
   "cell_type": "markdown",
   "metadata": {},
   "source": [
    "# Storage Location"
   ]
  },
  {
   "cell_type": "code",
   "execution_count": 23,
   "metadata": {},
   "outputs": [
    {
     "name": "stdout",
     "output_type": "stream",
     "text": [
      "10910560\n"
     ]
    }
   ],
   "source": [
    "val=6\n",
    "print (id(val)) #id is the address of variable val"
   ]
  },
  {
   "cell_type": "markdown",
   "metadata": {},
   "source": [
    "# Data Types"
   ]
  },
  {
   "cell_type": "markdown",
   "metadata": {},
   "source": [
    "In computer science and computer programming, a data type or simply type is an attribute of data which tells the compiler or interpreter how the programmer intends to use the data. Most programming languages support common data types of real, integer and boolean."
   ]
  },
  {
   "cell_type": "code",
   "execution_count": 41,
   "metadata": {},
   "outputs": [
    {
     "name": "stdout",
     "output_type": "stream",
     "text": [
      "15 Data type <class 'int'>\n",
      "Hello type <class 'str'>\n",
      "12.56 type <class 'float'>\n",
      "(9+1j) type <class 'complex'>\n"
     ]
    }
   ],
   "source": [
    "a=15 #integer\n",
    "var=\"Hello\" #String\n",
    "var_1= 12.56 # float\n",
    "var_2= 9+1j #complex number\n",
    "print (a,\"Data type\",type(a))\n",
    "print (var,\"type\",type(var))\n",
    "print (var_1,\"type\",type(var_1))\n",
    "print (var_2,\"type\",type(var_2))"
   ]
  },
  {
   "cell_type": "markdown",
   "metadata": {},
   "source": [
    "# Boolean"
   ]
  },
  {
   "cell_type": "code",
   "execution_count": 42,
   "metadata": {},
   "outputs": [
    {
     "name": "stdout",
     "output_type": "stream",
     "text": [
      "<class 'bool'>\n"
     ]
    }
   ],
   "source": [
    "a= True\n",
    "\n",
    "print (type(a))"
   ]
  },
  {
   "cell_type": "markdown",
   "metadata": {},
   "source": [
    "# String \n",
    "\n",
    "In computer programming, a string is traditionally a sequence of characters, either as a literal constant or as some kind of variable. The latter may allow its elements to be mutated and the length changed, or it may be fixed.\n",
    "\n",
    "A string is a data type used in programming, such as an integer and floating point unit, but is used to represent text rather than numbers. It is comprised of a set of characters that can also contain spaces and numbers. For example, the word \"hamburger\" and the phrase \"I ate 3 hamburgers\" are both strings."
   ]
  },
  {
   "cell_type": "code",
   "execution_count": 48,
   "metadata": {},
   "outputs": [
    {
     "name": "stdout",
     "output_type": "stream",
     "text": [
      "Hello welcome to my ipython notebook\n"
     ]
    }
   ],
   "source": [
    "strg = \"Hello welcome to my ipython notebook\"\n",
    "print (strg)"
   ]
  },
  {
   "cell_type": "code",
   "execution_count": 52,
   "metadata": {},
   "outputs": [
    {
     "data": {
      "text/plain": [
       "' welcome to my ipython notebook'"
      ]
     },
     "execution_count": 52,
     "metadata": {},
     "output_type": "execute_result"
    }
   ],
   "source": [
    "#slicing\n",
    "strg[5:]"
   ]
  },
  {
   "cell_type": "markdown",
   "metadata": {},
   "source": [
    "# Python List\n",
    "\n",
    "Python Collections (Arrays). There are four collection data types in the Python programming language: List is a collection which is ordered and changeable."
   ]
  },
  {
   "cell_type": "code",
   "execution_count": 55,
   "metadata": {},
   "outputs": [
    {
     "name": "stdout",
     "output_type": "stream",
     "text": [
      "['hello', 'how', 'are']\n"
     ]
    }
   ],
   "source": [
    "lis = [\"hello\",\"how\",\"are\",\"you\"]\n",
    "\n",
    "print(lis[0:3]) # Index starting from 0"
   ]
  },
  {
   "cell_type": "markdown",
   "metadata": {},
   "source": [
    "# Python Tuples\n",
    "\n",
    "A tuple is a sequence of immutable Python objects. Tuples are sequences, just like lists. The differences between tuples and lists are, the tuples cannot be changed unlike lists and tuples use parentheses, whereas lists use **square brackets**.\n",
    "\n",
    "**Tuples vs List**\n",
    "\n",
    "Python tuples vs lists – Mutability. The major difference between tuples and lists is that a list is mutable, whereas a tuple is immutable. This means that a list can be changed, but a tuple cannot."
   ]
  },
  {
   "cell_type": "code",
   "execution_count": 56,
   "metadata": {},
   "outputs": [
    {
     "name": "stdout",
     "output_type": "stream",
     "text": [
      "are\n"
     ]
    }
   ],
   "source": [
    "t = (\"hello\",\"hi\",\"how\",\"are\",\"you\",5) #tuples\n",
    "\n",
    "print (t[3]) #tuples index number "
   ]
  },
  {
   "cell_type": "markdown",
   "metadata": {},
   "source": [
    "# Python Sets\n",
    "\n",
    "Sets in Python. A Set is an unordered collection data type that is iterable, mutable, and has no duplicate elements. ... Frozen Sets Frozen sets are immutable objects that only support methods and operators that produce a result without a?ecting the frozen set or sets to which they are applied.\n",
    "\n",
    "**Access Items**\n",
    "You cannot access items in a set by referring to an index, since sets are unordered the items has no index.\n",
    "\n",
    "But you can loop through the set items using a for loop, or ask if a specified value is present in a set, by using the in keyword.\n",
    "\n",
    "**Note**: *Sets are unordered, so the items will appear in a random order.*"
   ]
  },
  {
   "cell_type": "code",
   "execution_count": 59,
   "metadata": {},
   "outputs": [
    {
     "name": "stdout",
     "output_type": "stream",
     "text": [
      "{'hii', 5, 6, 7, 'hello', 'how'}\n",
      "<class 'set'>\n"
     ]
    }
   ],
   "source": [
    "sets = {\"hello\",\"hii\",\"how\",5,6,7}\n",
    "\n",
    "print (sets)\n",
    "print (type(sets))"
   ]
  },
  {
   "cell_type": "markdown",
   "metadata": {},
   "source": [
    "Sets are unordered"
   ]
  },
  {
   "cell_type": "markdown",
   "metadata": {},
   "source": [
    "# Python Sorting\n"
   ]
  },
  {
   "cell_type": "code",
   "execution_count": 64,
   "metadata": {},
   "outputs": [
    {
     "name": "stdout",
     "output_type": "stream",
     "text": [
      "[0, 1, 2, 3, 4, 5, 6, 7, 10]\n"
     ]
    }
   ],
   "source": [
    "a = [1,0,6,2,3,4,10,7,5]\n",
    "\n",
    "sort= a.sort() #sorting function\n",
    "\n",
    "print (a)\n"
   ]
  },
  {
   "cell_type": "markdown",
   "metadata": {},
   "source": [
    "After sorting"
   ]
  },
  {
   "cell_type": "code",
   "execution_count": null,
   "metadata": {},
   "outputs": [],
   "source": []
  }
 ],
 "metadata": {
  "kernelspec": {
   "display_name": "Python 3",
   "language": "python",
   "name": "python3"
  },
  "language_info": {
   "codemirror_mode": {
    "name": "ipython",
    "version": 3
   },
   "file_extension": ".py",
   "mimetype": "text/x-python",
   "name": "python",
   "nbconvert_exporter": "python",
   "pygments_lexer": "ipython3",
   "version": "3.6.7"
  }
 },
 "nbformat": 4,
 "nbformat_minor": 2
}

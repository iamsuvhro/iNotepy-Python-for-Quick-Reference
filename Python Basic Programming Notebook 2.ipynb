{
 "cells": [
  {
   "cell_type": "markdown",
   "metadata": {},
   "source": [
    "# Python Basic Programming Notebook 2  \n",
    "\n",
    "Author - Suvhradip Ghosh\n",
    "\n",
    "Python is an interpreted, high-level, general-purpose programming language. Created by Guido van Rossum and first released in 1991, Python has a design philosophy that emphasizes code readability, notably using significant whitespace. It provides constructs that enable clear programming on both small and large scales.\n",
    "\n",
    "<b>Check Previous Notebook :: </b><a href=\"https://github.com/suvhradipghosh07/iNotepy-Python-for-Quick-Reference/blob/master/iNotepy.ipynb\">Python Basic Programming Notebook 2</a>"
   ]
  },
  {
   "cell_type": "markdown",
   "metadata": {},
   "source": [
    " <p><b>Python Factorial Programming</b></p>"
   ]
  },
  {
   "cell_type": "code",
   "execution_count": 2,
   "metadata": {},
   "outputs": [
    {
     "name": "stdout",
     "output_type": "stream",
     "text": [
      "Enter the Number:5\n",
      "Factorial of  5 is 120\n"
     ]
    }
   ],
   "source": [
    "#num is the input variable where the given fact number will be store\n",
    "num=int(input(\"Enter the Number:\"))\n",
    "fact=1 #default factorial is 1\n",
    "for x in range(1,num+1): #loop will go to 1 to number+1\n",
    "    fact=fact*x\n",
    "print(\"Factorial of \",num,\"is\",fact)\n"
   ]
  },
  {
   "cell_type": "markdown",
   "metadata": {},
   "source": [
    "# Numpy Basics\n",
    "<p><b>What  is  Numpy ?</b>:<br>NumPy is a library for the Python programming language, adding support for large, multi-dimensional arrays and matrices, along with a large collection of high-level mathematical functions to operate on these arrays.</p>"
   ]
  },
  {
   "cell_type": "code",
   "execution_count": 3,
   "metadata": {},
   "outputs": [
    {
     "name": "stdout",
     "output_type": "stream",
     "text": [
      "[1 2 3 4]\n",
      "[0 1 2 3 4 5 6 7 8 9]\n",
      "[0.80008803 0.52972966 0.35745185 0.01623733 0.67053319 0.39371005\n",
      " 0.17549459 0.32008169 0.92194885 0.06200863 0.01689823 0.396347\n",
      " 0.95118455 0.08488022 0.52155024 0.38357534 0.14476227 0.51785625\n",
      " 0.76295264 0.2046062 ]\n"
     ]
    }
   ],
   "source": [
    "import numpy as np\n",
    "#This is the numpy library \n",
    "\n",
    "list_1=np.array([1,2,3,4])\n",
    "#list_1 is a list but in numpy every thing is a matrix, this list convert into matrix\n",
    "print(list_1)\n",
    "\n",
    "val=np.arange(10)\n",
    "#it will arange value from 0 to given number\n",
    "print(val)\n",
    "\n",
    "val_1=np.random.rand(20)\n",
    "#np.random.rand is a numpy function it will generate random value \n",
    "print(val_1)"
   ]
  },
  {
   "cell_type": "code",
   "execution_count": 4,
   "metadata": {},
   "outputs": [
    {
     "name": "stdout",
     "output_type": "stream",
     "text": [
      "25.3 ns ± 0.23 ns per loop (mean ± std. dev. of 7 runs, 10000000 loops each)\n"
     ]
    }
   ],
   "source": [
    "val=np.arange(10)\n",
    "# %timeit is a fuction it will show you how much this program was taken \n",
    "%timeit val"
   ]
  },
  {
   "cell_type": "code",
   "execution_count": 5,
   "metadata": {},
   "outputs": [
    {
     "data": {
      "text/plain": [
       "(4,)"
      ]
     },
     "execution_count": 5,
     "metadata": {},
     "output_type": "execute_result"
    }
   ],
   "source": [
    "a=np.array([1,2,3,4])\n",
    "#n dim means it is a n dimension array\n",
    "a.ndim\n",
    "# a.shape means dimension shape of the array that you have\n",
    "a.shape"
   ]
  },
  {
   "cell_type": "markdown",
   "metadata": {},
   "source": [
    "# What is Tensor ?\n",
    "<p>N-Dimensional array is called Tensor.</p>\n",
    "\n",
    "<p><b>Example</b> :1-D array is called a vector, 2-D array is called a Matrix and N-D array is called a Tensor</p>"
   ]
  },
  {
   "cell_type": "markdown",
   "metadata": {},
   "source": [
    "<h2>2- Dimentional array</h2>"
   ]
  },
  {
   "cell_type": "code",
   "execution_count": 6,
   "metadata": {},
   "outputs": [
    {
     "data": {
      "text/plain": [
       "(2, 3)"
      ]
     },
     "execution_count": 6,
     "metadata": {},
     "output_type": "execute_result"
    }
   ],
   "source": [
    "# lets make 2-D array \n",
    "arr=np.array([[1,2,3],[2,3,4]])\n",
    "# this is 2-D array now in next line i am checking the dimension\n",
    "arr.ndim\n",
    "# shape will print the array shape\n",
    "arr.shape"
   ]
  },
  {
   "cell_type": "code",
   "execution_count": 7,
   "metadata": {},
   "outputs": [
    {
     "data": {
      "text/plain": [
       "array([1. , 1.5, 2. ])"
      ]
     },
     "execution_count": 7,
     "metadata": {},
     "output_type": "execute_result"
    }
   ],
   "source": [
    "#numpy line space functions\n",
    "x=np.linspace(1,2,3,4)\n",
    "x"
   ]
  },
  {
   "cell_type": "code",
   "execution_count": 8,
   "metadata": {},
   "outputs": [
    {
     "data": {
      "text/plain": [
       "array([[0., 0.]])"
      ]
     },
     "execution_count": 8,
     "metadata": {},
     "output_type": "execute_result"
    }
   ],
   "source": [
    "x=np.eye(1,2,3)\n",
    "\n",
    "x"
   ]
  },
  {
   "cell_type": "code",
   "execution_count": 9,
   "metadata": {},
   "outputs": [
    {
     "data": {
      "text/plain": [
       "array([[1., 1., 1.],\n",
       "       [1., 1., 1.]])"
      ]
     },
     "execution_count": 9,
     "metadata": {},
     "output_type": "execute_result"
    }
   ],
   "source": [
    "#print one matrix using given given dimension \n",
    "one=np.ones([2,3])\n",
    "\n",
    "one"
   ]
  },
  {
   "cell_type": "code",
   "execution_count": 10,
   "metadata": {},
   "outputs": [
    {
     "data": {
      "text/plain": [
       "array([[0., 0., 0.],\n",
       "       [0., 0., 0.]])"
      ]
     },
     "execution_count": 10,
     "metadata": {},
     "output_type": "execute_result"
    }
   ],
   "source": [
    "zero=np.zeros([2,3])\n",
    "\n",
    "zero"
   ]
  },
  {
   "cell_type": "code",
   "execution_count": 11,
   "metadata": {},
   "outputs": [
    {
     "data": {
      "text/plain": [
       "array([[1, 0, 0, 0, 0],\n",
       "       [0, 2, 0, 0, 0],\n",
       "       [0, 0, 3, 0, 0],\n",
       "       [0, 0, 0, 4, 0],\n",
       "       [0, 0, 0, 0, 5]])"
      ]
     },
     "execution_count": 11,
     "metadata": {},
     "output_type": "execute_result"
    }
   ],
   "source": [
    "#printing diagonal matrix\n",
    "a= np.diag([1,2,3,4,5])\n",
    "a"
   ]
  },
  {
   "cell_type": "code",
   "execution_count": 12,
   "metadata": {},
   "outputs": [
    {
     "data": {
      "text/plain": [
       "array([['s', '', '', '', '', '', '', '', ''],\n",
       "       ['', 'u', '', '', '', '', '', '', ''],\n",
       "       ['', '', 'v', '', '', '', '', '', ''],\n",
       "       ['', '', '', 'h', '', '', '', '', ''],\n",
       "       ['', '', '', '', 'r', '', '', '', ''],\n",
       "       ['', '', '', '', '', 'a', '', '', ''],\n",
       "       ['', '', '', '', '', '', 'd', '', ''],\n",
       "       ['', '', '', '', '', '', '', 'i', ''],\n",
       "       ['', '', '', '', '', '', '', '', 'p']], dtype='<U1')"
      ]
     },
     "execution_count": 12,
     "metadata": {},
     "output_type": "execute_result"
    }
   ],
   "source": [
    "a= np.diag([\"s\",\"u\",\"v\",\"h\",\"r\",\"a\",\"d\",\"i\",\"p\"])\n",
    "a"
   ]
  },
  {
   "cell_type": "code",
   "execution_count": 13,
   "metadata": {},
   "outputs": [
    {
     "data": {
      "text/plain": [
       "array([[1, 2, 0],\n",
       "       [0, 2, 0],\n",
       "       [3, 2, 0]])"
      ]
     },
     "execution_count": 13,
     "metadata": {},
     "output_type": "execute_result"
    }
   ],
   "source": [
    "#replacement technique in array \n",
    "\n",
    "#here i am creating a array \n",
    "a=np.array([[1,2,0],[0,2,0],[3,2,0]])\n",
    "# this is my array here i am going to change 2nd row 1st value which is 2\n",
    "a"
   ]
  },
  {
   "cell_type": "markdown",
   "metadata": {},
   "source": [
    "<h2>Assigning Value</h2>"
   ]
  },
  {
   "cell_type": "code",
   "execution_count": 15,
   "metadata": {},
   "outputs": [
    {
     "data": {
      "text/plain": [
       "array([[1, 2, 0],\n",
       "       [0, 2, 0],\n",
       "       [3, 5, 0]])"
      ]
     },
     "execution_count": 15,
     "metadata": {},
     "output_type": "execute_result"
    }
   ],
   "source": [
    "a[2,1]=5\n",
    "#i assign new value that is 5\n",
    "a"
   ]
  },
  {
   "cell_type": "markdown",
   "metadata": {},
   "source": [
    "<p>Here you can check the new value 5 is assign into the matrix</p>"
   ]
  },
  {
   "cell_type": "markdown",
   "metadata": {},
   "source": [
    "<h1>Adding Value in every element in the array</h1>"
   ]
  },
  {
   "cell_type": "code",
   "execution_count": 16,
   "metadata": {},
   "outputs": [
    {
     "data": {
      "text/plain": [
       "array([2, 3, 4, 5, 6])"
      ]
     },
     "execution_count": 16,
     "metadata": {},
     "output_type": "execute_result"
    }
   ],
   "source": [
    "#create a array\n",
    "arr=np.array([1,2,3,4,5])\n",
    "#adding 1 in eacj element\n",
    "arr+1"
   ]
  },
  {
   "cell_type": "markdown",
   "metadata": {},
   "source": [
    "Here you can check new array element value increase by one"
   ]
  },
  {
   "cell_type": "markdown",
   "metadata": {},
   "source": [
    "<b>Square of a matrix element</b>"
   ]
  },
  {
   "cell_type": "code",
   "execution_count": 18,
   "metadata": {},
   "outputs": [
    {
     "data": {
      "text/plain": [
       "array([ 1,  4,  9, 16, 25])"
      ]
     },
     "execution_count": 18,
     "metadata": {},
     "output_type": "execute_result"
    }
   ],
   "source": [
    "arr=np.array([1,2,3,4,5])\n",
    "#here double multiplication means square\n",
    "arr**2"
   ]
  },
  {
   "cell_type": "markdown",
   "metadata": {},
   "source": [
    "<h1>All Arithmetic Operations Elementwise</h1>"
   ]
  },
  {
   "cell_type": "code",
   "execution_count": 19,
   "metadata": {},
   "outputs": [
    {
     "data": {
      "text/plain": [
       "array([[ 2,  2,  4],\n",
       "       [-3, -3, -3]])"
      ]
     },
     "execution_count": 19,
     "metadata": {},
     "output_type": "execute_result"
    }
   ],
   "source": [
    "#array substraction\n",
    "a=np.array([[2,3,4]\n",
    "           ,[4,5,6]])\n",
    "b=np.array([[0,1,0]\n",
    "           ,[7,8,9]])\n",
    "a-b"
   ]
  },
  {
   "cell_type": "code",
   "execution_count": 20,
   "metadata": {},
   "outputs": [
    {
     "data": {
      "text/plain": [
       "array([[ 2,  4,  4],\n",
       "       [11, 13, 15]])"
      ]
     },
     "execution_count": 20,
     "metadata": {},
     "output_type": "execute_result"
    }
   ],
   "source": [
    "#array addition\n",
    "a=np.array([[2,3,4]\n",
    "           ,[4,5,6]])\n",
    "b=np.array([[0,1,0]\n",
    "           ,[7,8,9]])\n",
    "a+b"
   ]
  },
  {
   "cell_type": "code",
   "execution_count": 23,
   "metadata": {},
   "outputs": [
    {
     "data": {
      "text/plain": [
       "array([[ 0,  3,  0],\n",
       "       [28, 40, 54]])"
      ]
     },
     "execution_count": 23,
     "metadata": {},
     "output_type": "execute_result"
    }
   ],
   "source": [
    "#array multiplication\n",
    "a=np.array([[2,3,4]\n",
    "           ,[4,5,6]])\n",
    "b=np.array([[0,1,0]\n",
    "           ,[7,8,9]])\n",
    "a*b"
   ]
  },
  {
   "cell_type": "markdown",
   "metadata": {},
   "source": [
    "<b>Element Comparision</b>"
   ]
  },
  {
   "cell_type": "code",
   "execution_count": 24,
   "metadata": {},
   "outputs": [
    {
     "data": {
      "text/plain": [
       "array([False,  True,  True, False,  True])"
      ]
     },
     "execution_count": 24,
     "metadata": {},
     "output_type": "execute_result"
    }
   ],
   "source": [
    "arr=np.array([1,2,3,4,5])\n",
    "arr_1=np.array([0,2,3,3,5])\n",
    "#checking the value if it is same or not \n",
    "arr==arr_1"
   ]
  },
  {
   "cell_type": "markdown",
   "metadata": {},
   "source": [
    "<h1>Some Mathematical fuctions in array</h1>"
   ]
  },
  {
   "cell_type": "code",
   "execution_count": 26,
   "metadata": {},
   "outputs": [
    {
     "data": {
      "text/plain": [
       "array([ 0.        ,  0.84147098,  0.90929743,  0.14112001, -0.7568025 ])"
      ]
     },
     "execution_count": 26,
     "metadata": {},
     "output_type": "execute_result"
    }
   ],
   "source": [
    "#creating a rray from 0 to 1\n",
    "a=np.arange(5)\n",
    "#finding the sin value of each element in array\n",
    "np.sin(a)"
   ]
  },
  {
   "cell_type": "code",
   "execution_count": 27,
   "metadata": {},
   "outputs": [
    {
     "data": {
      "text/plain": [
       "array([ 0.        ,  1.55740772, -2.18503986, -0.14254654,  1.15782128])"
      ]
     },
     "execution_count": 27,
     "metadata": {},
     "output_type": "execute_result"
    }
   ],
   "source": [
    "#creating a rray from 0 to 1\n",
    "a=np.arange(5)\n",
    "#finding the tan value of each element in array\n",
    "np.tan(a)"
   ]
  },
  {
   "cell_type": "code",
   "execution_count": 28,
   "metadata": {},
   "outputs": [
    {
     "name": "stderr",
     "output_type": "stream",
     "text": [
      "/home/suvhradip/.local/lib/python3.6/site-packages/ipykernel_launcher.py:4: RuntimeWarning: divide by zero encountered in log\n",
      "  after removing the cwd from sys.path.\n"
     ]
    },
    {
     "data": {
      "text/plain": [
       "array([      -inf, 0.        , 0.69314718, 1.09861229, 1.38629436])"
      ]
     },
     "execution_count": 28,
     "metadata": {},
     "output_type": "execute_result"
    }
   ],
   "source": [
    "#creating a rray from 0 to 1\n",
    "a=np.arange(5)\n",
    "#finding the log value of each element in array\n",
    "np.log(a)"
   ]
  },
  {
   "cell_type": "code",
   "execution_count": 29,
   "metadata": {},
   "outputs": [
    {
     "data": {
      "text/plain": [
       "array([ 1.        ,  0.54030231, -0.41614684, -0.9899925 , -0.65364362])"
      ]
     },
     "execution_count": 29,
     "metadata": {},
     "output_type": "execute_result"
    }
   ],
   "source": [
    "#creating a rray from 0 to 1\n",
    "a=np.arange(5)\n",
    "#finding the cos value of each element in array\n",
    "np.cos(a)"
   ]
  },
  {
   "cell_type": "markdown",
   "metadata": {},
   "source": [
    "<h1>Finding the mean & max value in array</h1>"
   ]
  },
  {
   "cell_type": "code",
   "execution_count": 32,
   "metadata": {},
   "outputs": [
    {
     "data": {
      "text/plain": [
       "1"
      ]
     },
     "execution_count": 32,
     "metadata": {},
     "output_type": "execute_result"
    }
   ],
   "source": [
    "arr=np.array([1,2,3,4])\n",
    "#np.min will find the mean value \n",
    "np.min(arr)"
   ]
  },
  {
   "cell_type": "code",
   "execution_count": 33,
   "metadata": {},
   "outputs": [
    {
     "data": {
      "text/plain": [
       "4"
      ]
     },
     "execution_count": 33,
     "metadata": {},
     "output_type": "execute_result"
    }
   ],
   "source": [
    "arr=np.array([1,2,3,4])\n",
    "#np.min will find the max value \n",
    "np.max(arr)"
   ]
  },
  {
   "cell_type": "markdown",
   "metadata": {},
   "source": [
    "# Matrix Transpose"
   ]
  },
  {
   "cell_type": "code",
   "execution_count": 47,
   "metadata": {},
   "outputs": [
    {
     "name": "stdout",
     "output_type": "stream",
     "text": [
      "[[ 0 10 20 30]\n",
      " [ 0 10 20 30]\n",
      " [ 0 10 20 30]]\n",
      "\n",
      "After transpose\n"
     ]
    },
    {
     "data": {
      "text/plain": [
       "array([[ 0,  0,  0],\n",
       "       [10, 10, 10],\n",
       "       [20, 20, 20],\n",
       "       [30, 30, 30]])"
      ]
     },
     "execution_count": 47,
     "metadata": {},
     "output_type": "execute_result"
    }
   ],
   "source": [
    "arr=np.tile(np.arange(0,40,10),(3,1))\n",
    "print(arr)\n",
    "print(\"\\nAfter transpose\")\n",
    "#after transpose\n",
    "arr=arr.T\n",
    "arr"
   ]
  },
  {
   "cell_type": "markdown",
   "metadata": {},
   "source": [
    "<b>Next Chapter Matplotlib</b>"
   ]
  },
  {
   "cell_type": "markdown",
   "metadata": {},
   "source": [
    "# Pyplot Notes"
   ]
  },
  {
   "cell_type": "markdown",
   "metadata": {},
   "source": [
    "<b>What is Matplotlib ?</b>\n",
    "\n",
    "Matplotlib is a plotting library for the Python programming language and its numerical mathematics extension NumPy. It provides an object-oriented API for embedding plots into applications using general-purpose GUI toolkits like Tkinter, wxPython, Qt, or GTK."
   ]
  },
  {
   "cell_type": "code",
   "execution_count": 48,
   "metadata": {},
   "outputs": [],
   "source": [
    "#importing matplotlib\n",
    "import matplotlib.pyplot as plt"
   ]
  },
  {
   "cell_type": "code",
   "execution_count": 50,
   "metadata": {},
   "outputs": [
    {
     "data": {
      "image/png": "[encoded data removed]",
      "text/plain": [
       "<Figure size 432x288 with 1 Axes>"
      ]
     },
     "metadata": {
      "needs_background": "light"
     },
     "output_type": "display_data"
    }
   ],
   "source": [
    "plt.plot([2,4,6,4])\n",
    "plt.xlabel(\"Indices\")\n",
    "plt.ylabel(\"Number\") #default x value is 1,2,3,4\n",
    "plt.show()"
   ]
  },
  {
   "cell_type": "code",
   "execution_count": 51,
   "metadata": {},
   "outputs": [
    {
     "data": {
      "image/png": "[encoded data removed]",
      "text/plain": [
       "<Figure size 432x288 with 1 Axes>"
      ]
     },
     "metadata": {
      "needs_background": "light"
     },
     "output_type": "display_data"
    }
   ],
   "source": [
    "#adding grid in graph\n",
    "plt.plot([2,4,6,4])\n",
    "plt.xlabel(\"Indices\")\n",
    "plt.ylabel(\"Number\") #default x value is 1,2,3,4\n",
    "plt.grid()\n",
    "plt.show()"
   ]
  },
  {
   "cell_type": "code",
   "execution_count": 61,
   "metadata": {},
   "outputs": [
    {
     "data": {
      "image/png": "[encoded data removed]",
      "text/plain": [
       "<Figure size 432x288 with 1 Axes>"
      ]
     },
     "metadata": {
      "needs_background": "light"
     },
     "output_type": "display_data"
    }
   ],
   "source": [
    "#adding x & y axis in graph\n",
    "plt.plot([1,2,3,4],[1,4,9,16])\n",
    "plt.xlabel(\"Number\")\n",
    "plt.ylabel(\"Number\") #default x value is 1,2,3,4\n",
    "#adding grid\n",
    "plt.grid()\n",
    "#adding name or title\n",
    "plt.title(\"Graph\")\n",
    "plt.show()"
   ]
  },
  {
   "cell_type": "code",
   "execution_count": 62,
   "metadata": {},
   "outputs": [
    {
     "data": {
      "image/png": "[encoded data removed]",
      "text/plain": [
       "<Figure size 432x288 with 1 Axes>"
      ]
     },
     "metadata": {
      "needs_background": "light"
     },
     "output_type": "display_data"
    }
   ],
   "source": [
    "#Changing plotting style\n",
    "\n",
    "#adding x & y axis in graph\n",
    "plt.plot([1,2,3,4],[1,4,9,16],'ro') #here r means red and o means o shape plotting\n",
    "plt.xlabel(\"Number\")\n",
    "plt.ylabel(\"Number\") #default x value is 1,2,3,4\n",
    "#adding grid\n",
    "plt.grid()\n",
    "#adding name or title\n",
    "plt.title(\"Graph\")\n",
    "plt.show()"
   ]
  },
  {
   "cell_type": "code",
   "execution_count": 69,
   "metadata": {},
   "outputs": [
    {
     "data": {
      "image/png": "[encoded data removed]",
      "text/plain": [
       "<Figure size 432x288 with 1 Axes>"
      ]
     },
     "metadata": {
      "needs_background": "light"
     },
     "output_type": "display_data"
    }
   ],
   "source": [
    "#create a numpy array\n",
    "t=np.arange(0.,5.,0.2)\n",
    "\n",
    "plt.plot(t,t**2,\"b--\",label=\"^2\")\n",
    "plt.plot(t,t**2.2,\"r^\",label=\"^2.2\")\n",
    "plt.legend() #adding the label at top left corner\n",
    "plt.grid()\n",
    "plt.show()"
   ]
  },
  {
   "cell_type": "markdown",
   "metadata": {},
   "source": [
    "<br>\n",
    "<br>\n",
    "<center><h1>Thank you guys for watching my this notebook</h1></center>"
   ]
  },
  {
   "cell_type": "code",
   "execution_count": null,
   "metadata": {},
   "outputs": [],
   "source": []
  }
 ],
 "metadata": {
  "kernelspec": {
   "display_name": "Python 3",
   "language": "python",
   "name": "python3"
  },
  "language_info": {
   "codemirror_mode": {
    "name": "ipython",
    "version": 3
   },
   "file_extension": ".py",
   "mimetype": "text/x-python",
   "name": "python",
   "nbconvert_exporter": "python",
   "pygments_lexer": "ipython3",
   "version": "3.6.5"
  }
 },
 "nbformat": 4,
 "nbformat_minor": 2
}
